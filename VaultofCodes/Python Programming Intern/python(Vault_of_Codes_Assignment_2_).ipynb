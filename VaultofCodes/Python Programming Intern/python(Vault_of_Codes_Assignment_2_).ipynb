{
  "nbformat": 4,
  "nbformat_minor": 0,
  "metadata": {
    "colab": {
      "provenance": [],
      "authorship_tag": "ABX9TyN22rT2EzKYTeY6/2l/4RPF",
      "include_colab_link": true
    },
    "kernelspec": {
      "name": "python3",
      "display_name": "Python 3"
    },
    "language_info": {
      "name": "python"
    }
  },
  "cells": [
    {
      "cell_type": "markdown",
      "metadata": {
        "id": "view-in-github",
        "colab_type": "text"
      },
      "source": [
        "<a href=\"https://colab.research.google.com/github/anjha1/INTERNSHIP/blob/main/python(Vault_of_Codes_Assignment_2_).ipynb\" target=\"_parent\"><img src=\"https://colab.research.google.com/assets/colab-badge.svg\" alt=\"Open In Colab\"/></a>"
      ]
    },
    {
      "cell_type": "markdown",
      "source": [
        ">                                                     Vault of Codes (Python)\n",
        "\n",
        "\n"
      ],
      "metadata": {
        "id": "9j1eMGI3--po"
      }
    },
    {
      "cell_type": "markdown",
      "source": [
        "Name = Achhuta Nand Jha"
      ],
      "metadata": {
        "id": "_up-H8CrJ5wk"
      }
    },
    {
      "cell_type": "markdown",
      "source": [
        "> Assignment 2:"
      ],
      "metadata": {
        "id": "lTSNpptL_K4P"
      }
    },
    {
      "cell_type": "markdown",
      "source": [
        "."
      ],
      "metadata": {
        "id": "0WlOKxAzaueZ"
      }
    },
    {
      "cell_type": "markdown",
      "source": [
        "."
      ],
      "metadata": {
        "id": "qVjkMv14avmJ"
      }
    },
    {
      "cell_type": "markdown",
      "source": [
        "**1. Write a program to count word frequencies in a given text.**"
      ],
      "metadata": {
        "id": "cqmobdv1awlJ"
      }
    },
    {
      "cell_type": "code",
      "source": [
        "def count_word_frequencies(text):\n",
        "    text = text.lower()\n",
        "    for char in \"-.,\\n\":\n",
        "        text = text.replace(char, ' ')\n",
        "    words = text.split()\n",
        "    word_frequencies = {}\n",
        "    for word in words:\n",
        "        if word in word_frequencies:\n",
        "            word_frequencies[word] += 1\n",
        "        else:\n",
        "            word_frequencies[word] = 1\n",
        "    return word_frequencies\n",
        "\n",
        "text = \"This is a sample text. This text is a sample text.\"\n",
        "frequencies = count_word_frequencies(text)\n",
        "print(frequencies)\n"
      ],
      "metadata": {
        "colab": {
          "base_uri": "https://localhost:8080/"
        },
        "id": "4g686VZ1a62N",
        "outputId": "86461e59-1ba8-4087-a6a8-d29e2ce4b6ee"
      },
      "execution_count": null,
      "outputs": [
        {
          "output_type": "stream",
          "name": "stdout",
          "text": [
            "{'this': 2, 'is': 2, 'a': 2, 'sample': 2, 'text': 3}\n"
          ]
        }
      ]
    },
    {
      "cell_type": "markdown",
      "source": [
        "**2. Palindrome Checker**\n",
        "Write a program that checks if a given word is a palindrome."
      ],
      "metadata": {
        "id": "uy2Qn-Yba_5A"
      }
    },
    {
      "cell_type": "code",
      "source": [
        "def is_palindrome(word):\n",
        "    word = word.lower()\n",
        "    return word == word[::-1]\n",
        "\n",
        "word = \"Racecar\"\n",
        "if is_palindrome(word):\n",
        "    print(f\"'{word}' is a palindrome.\")\n",
        "else:\n",
        "    print(f\"'{word}' is not a palindrome.\")\n"
      ],
      "metadata": {
        "colab": {
          "base_uri": "https://localhost:8080/"
        },
        "id": "LpPnAIttbGe9",
        "outputId": "7aafe752-ebc7-414c-d262-64c2103fdf71"
      },
      "execution_count": null,
      "outputs": [
        {
          "output_type": "stream",
          "name": "stdout",
          "text": [
            "'Racecar' is a palindrome.\n"
          ]
        }
      ]
    },
    {
      "cell_type": "markdown",
      "source": [
        "**3. List Manipulation**\n",
        "Create a list of numbers, then write a program that prints the square of each number in the list."
      ],
      "metadata": {
        "id": "l-tSUES4bJxm"
      }
    },
    {
      "cell_type": "code",
      "source": [
        "def print_squares(numbers):\n",
        "    for number in numbers:\n",
        "        print(f\"The square of {number} is {number ** 2}\")\n",
        "\n",
        "numbers = [1, 2, 3, 4, 5]\n",
        "print_squares(numbers)\n"
      ],
      "metadata": {
        "colab": {
          "base_uri": "https://localhost:8080/"
        },
        "id": "Fa6jQObgbUeA",
        "outputId": "24e17cef-eeff-47e5-ba41-c8fee181b0ac"
      },
      "execution_count": null,
      "outputs": [
        {
          "output_type": "stream",
          "name": "stdout",
          "text": [
            "The square of 1 is 1\n",
            "The square of 2 is 4\n",
            "The square of 3 is 9\n",
            "The square of 4 is 16\n",
            "The square of 5 is 25\n"
          ]
        }
      ]
    },
    {
      "cell_type": "markdown",
      "source": [
        "**4. Create a presentation on the topic**\n",
        "\n",
        "**-OOPs in Python**\n",
        "\n",
        "\n",
        "-PPT should be 6-10 slides with your name written on the first pages."
      ],
      "metadata": {
        "id": "bhYIG6QDbO4J"
      }
    },
    {
      "cell_type": "markdown",
      "source": [
        "[PPT Download LINK](https://docs.google.com/presentation/d/1nxxTMU8xKAYzlNlCLAxBX05_I2KE-AcZ/edit?usp=sharing&ouid=106333942476934557329&rtpof=true&sd=true)"
      ],
      "metadata": {
        "id": "9Lp23dLIbSZd"
      }
    }
  ]
}
