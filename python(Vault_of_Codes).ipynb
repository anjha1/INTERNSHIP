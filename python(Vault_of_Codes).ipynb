{
  "nbformat": 4,
  "nbformat_minor": 0,
  "metadata": {
    "colab": {
      "provenance": [],
      "authorship_tag": "ABX9TyN8NBQchvckHmdSzwui39cC",
      "include_colab_link": true
    },
    "kernelspec": {
      "name": "python3",
      "display_name": "Python 3"
    },
    "language_info": {
      "name": "python"
    }
  },
  "cells": [
    {
      "cell_type": "markdown",
      "metadata": {
        "id": "view-in-github",
        "colab_type": "text"
      },
      "source": [
        "<a href=\"https://colab.research.google.com/github/anjha1/INTERNSHIP/blob/main/python(Vault_of_Codes).ipynb\" target=\"_parent\"><img src=\"https://colab.research.google.com/assets/colab-badge.svg\" alt=\"Open In Colab\"/></a>"
      ]
    },
    {
      "cell_type": "markdown",
      "source": [
        ">                                                     Vault of Codes (Python)\n",
        "\n",
        "\n"
      ],
      "metadata": {
        "id": "9j1eMGI3--po"
      }
    },
    {
      "cell_type": "markdown",
      "source": [
        "Name = Achhuta Nand Jha"
      ],
      "metadata": {
        "id": "_up-H8CrJ5wk"
      }
    },
    {
      "cell_type": "markdown",
      "source": [
        "> Assignment 1:"
      ],
      "metadata": {
        "id": "lTSNpptL_K4P"
      }
    },
    {
      "cell_type": "markdown",
      "source": [
        "."
      ],
      "metadata": {
        "id": "bwVBWkwU_XKw"
      }
    },
    {
      "cell_type": "markdown",
      "source": [
        "."
      ],
      "metadata": {
        "id": "2wSMLJAU_YRF"
      }
    },
    {
      "cell_type": "markdown",
      "source": [
        "\n",
        "\n",
        "```\n",
        "# Task1: Review the following codes, find and fix errors and explain the error\n",
        "```\n",
        "\n"
      ],
      "metadata": {
        "id": "KDTUh_B3_QRh"
      }
    },
    {
      "cell_type": "markdown",
      "source": [
        "Code Snippet 1: Variable Name Typo"
      ],
      "metadata": {
        "id": "XPQdqNc8Anih"
      }
    },
    {
      "cell_type": "code",
      "execution_count": null,
      "metadata": {
        "id": "2fzjYoLd-21G"
      },
      "outputs": [],
      "source": [
        "numbers_of_apples = 5\n",
        "print(numbers_of_apple)\n"
      ]
    },
    {
      "cell_type": "markdown",
      "source": [
        "> **Error to Expect: NameError** The error occurs because the variable numbers_of_apple is referenced in the print statement, but it has not been defined. The variable that was defined is numbers_of_apples."
      ],
      "metadata": {
        "id": "WS43NVg5_zrZ"
      }
    },
    {
      "cell_type": "markdown",
      "source": [
        "> **Corrected Code**To fix this, we need to ensure that the variable name used in the print statement matches the variable name defined earlier."
      ],
      "metadata": {
        "id": "4eoq5hSYBGoU"
      }
    },
    {
      "cell_type": "code",
      "source": [
        "numbers_of_apples=5\n",
        "print(numbers_of_apples)"
      ],
      "metadata": {
        "colab": {
          "base_uri": "https://localhost:8080/"
        },
        "id": "rtHPYExE_rep",
        "outputId": "73de6ddb-637e-4c36-b52d-0bca4f5cfe79"
      },
      "execution_count": null,
      "outputs": [
        {
          "output_type": "stream",
          "name": "stdout",
          "text": [
            "5\n"
          ]
        }
      ]
    },
    {
      "cell_type": "markdown",
      "source": [
        ">**Explanation**\n",
        "\n",
        "*   The variable numbers_of_apples is defined and assigned a value of 5.\n",
        "*   In the print statement, numbers_of_apples is correctly referenced, so it will output the value 5.\n",
        "\n",
        "\n"
      ],
      "metadata": {
        "id": "iwNlEOF1BSOv"
      }
    },
    {
      "cell_type": "markdown",
      "source": [
        "**Output of the Corrected Code** By ensuring that the variable name is consistently spelled throughout the code, we avoid the NameError."
      ],
      "metadata": {
        "id": "-YUi9Ui_Bhjq"
      }
    },
    {
      "cell_type": "markdown",
      "source": [
        "."
      ],
      "metadata": {
        "id": "iEYbAuC6Bq7q"
      }
    },
    {
      "cell_type": "markdown",
      "source": [
        "."
      ],
      "metadata": {
        "id": "H6lxAE7YBwdU"
      }
    },
    {
      "cell_type": "markdown",
      "source": [
        "**Code Snippet 2:** Accessing List Elements Out of Range"
      ],
      "metadata": {
        "id": "u90fjTBMCW-1"
      }
    },
    {
      "cell_type": "code",
      "source": [
        "fruits=[\"apple\",\"banana\",\"cherry\"]\n",
        "print(fruits[3])"
      ],
      "metadata": {
        "id": "EaINBueyCaT7"
      },
      "execution_count": null,
      "outputs": []
    },
    {
      "cell_type": "markdown",
      "source": [
        ">**Error to Expect: IndexError**\n",
        "The error occurs because the code attempts to access the element at index 3 in the fruits list, but the list only has three elements, with indices 0, 1, and 2."
      ],
      "metadata": {
        "id": "adzUvF9eCgsf"
      }
    },
    {
      "cell_type": "markdown",
      "source": [
        "> **Corrected Code**\n",
        "To fix this, we need to access an index that is within the range of the list's indices. If you want to access the third element, you should use index 2."
      ],
      "metadata": {
        "id": "Fp35JKpBBxSn"
      }
    },
    {
      "cell_type": "code",
      "source": [
        "fruits = [\"apple\", \"banana\", \"cherry\"]\n",
        "print(fruits[2])"
      ],
      "metadata": {
        "colab": {
          "base_uri": "https://localhost:8080/"
        },
        "id": "2u1MQ1yGCp2v",
        "outputId": "a82ea5df-daf7-413a-9319-2e39eae45804"
      },
      "execution_count": null,
      "outputs": [
        {
          "output_type": "stream",
          "name": "stdout",
          "text": [
            "cherry\n"
          ]
        }
      ]
    },
    {
      "cell_type": "markdown",
      "source": [
        ">**Explanation**\n",
        "\n",
        "*   The list fruits has three elements: \"apple\", \"banana\", and \"cherry\".\n",
        "*   List indices start at 0, so the elements are at indices 0, 1, and 2.\n",
        "*  Attempting to access fruits[3] results in an IndexError because there is no element at index 3.\n",
        "\n",
        "\n",
        "\n",
        "\n"
      ],
      "metadata": {
        "id": "It6nHIkLCvM4"
      }
    },
    {
      "cell_type": "markdown",
      "source": [
        ">**Output of the Corrected Code**\n",
        "\n",
        "\n",
        "\n",
        "```\n",
        "\n",
        "cherry\n",
        "```\n",
        "\n",
        "\n",
        "\n",
        ">By accessing the correct index, we avoid the IndexError and successfully print the third element in the list."
      ],
      "metadata": {
        "id": "H2Nv0b9RC9ol"
      }
    },
    {
      "cell_type": "markdown",
      "source": [
        "."
      ],
      "metadata": {
        "id": "33KEJpxoDJ_b"
      }
    },
    {
      "cell_type": "markdown",
      "source": [
        "."
      ],
      "metadata": {
        "id": "_zZXvC1cDLMu"
      }
    },
    {
      "cell_type": "markdown",
      "source": [
        "**Code Snippet 3:** Function Not Behaving as Expected"
      ],
      "metadata": {
        "id": "9snTdUjRDLy8"
      }
    },
    {
      "cell_type": "code",
      "source": [
        "def find_average(numbers):\n",
        "  sum=0\n",
        "  for number in numbers:\n",
        "    sum+= number\n",
        "  average= sum / len(numbers)\n",
        "  return average\n",
        "numbers=[1,2,3,4,5,\"6\"]\n",
        "average=find_average(numbers)\n",
        "print(f\"The average is :{average}\")"
      ],
      "metadata": {
        "id": "AJKmY83mDnRp"
      },
      "execution_count": null,
      "outputs": []
    },
    {
      "cell_type": "markdown",
      "source": [
        ">**Error to Expect: TypeError**\n",
        "\n",
        "The error occurs because the list numbers contains a string \"6\" instead of an integer. When Python attempts to add this string to the sum, it will raise a TypeError because the += operator cannot add an integer and a string."
      ],
      "metadata": {
        "id": "yiFP7yaWFKgj"
      }
    },
    {
      "cell_type": "markdown",
      "source": [
        ">**Corrected Code**\n",
        "\n",
        "\n",
        "To fix this, we need to ensure that all elements in the list are converted to integers before performing arithmetic operations. We can use a list comprehension to convert all elements to integers."
      ],
      "metadata": {
        "id": "yctm1fwLFPpj"
      }
    },
    {
      "cell_type": "code",
      "source": [
        "def find_average(numbers):\n",
        "  sum = 0\n",
        "  for number in numbers:\n",
        "    sum += int(number)\n",
        "  average = sum / len(numbers)\n",
        "  return average\n",
        "\n",
        "numbers = [1, 2, 3, 4, 5, \"6\"]\n",
        "average = find_average(numbers)\n",
        "print(f\"The average is: {average}\")\n"
      ],
      "metadata": {
        "colab": {
          "base_uri": "https://localhost:8080/"
        },
        "id": "8VVcb2oXFIYS",
        "outputId": "c8a16408-bb1e-4eac-f94f-a11c7972529d"
      },
      "execution_count": null,
      "outputs": [
        {
          "output_type": "stream",
          "name": "stdout",
          "text": [
            "The average is: 3.5\n"
          ]
        }
      ]
    },
    {
      "cell_type": "markdown",
      "source": [
        "**Explanation**\n",
        "\n",
        "*   The list numbers contains a string \"6\" that needs to be converted to an integer.\n",
        "\n",
        "*   Using int(number) inside the loop ensures that all elements are treated as integers before adding them to the sum.\n",
        "\n",
        "\n",
        "\n",
        "*   The sum is correctly calculated, and the average is then computed by dividing the sum by the length of the list.\n",
        "\n",
        "\n",
        "\n"
      ],
      "metadata": {
        "id": "X9VjlMoaFlv2"
      }
    },
    {
      "cell_type": "markdown",
      "source": [
        ">**Output of the Corrected Code**\n",
        "\n",
        "\n",
        "```\n",
        " The average is: 3.5\n",
        "\n",
        "```\n",
        "By converting all elements to integers, we avoid the TypeError and correctly calculate the average of the list.\n"
      ],
      "metadata": {
        "id": "-1HHF6oAF0E2"
      }
    },
    {
      "cell_type": "markdown",
      "source": [
        "."
      ],
      "metadata": {
        "id": "AkeZnDzrGAgr"
      }
    },
    {
      "cell_type": "markdown",
      "source": [
        ".\n"
      ],
      "metadata": {
        "id": "Ee9R5P-lGGdc"
      }
    },
    {
      "cell_type": "markdown",
      "source": [
        "**Exercise 4:** Incorrect Dictionary Usage"
      ],
      "metadata": {
        "id": "swEihouzGHri"
      }
    },
    {
      "cell_type": "code",
      "source": [
        "def update_record(records, name, score):\n",
        "    if name in records:\n",
        "        records[name].append(score)\n",
        "    else:\n",
        "        records[name] = score\n",
        "\n",
        "student_records = {\"Alice\": [88, 92], \"Bob\": [70, 85]}\n",
        "update_record(student_records, \"Charlie\", 91)\n",
        "update_record(student_records, \"Alice\", 95)\n",
        "\n",
        "print(student_records)\n"
      ],
      "metadata": {
        "id": "jEFn-dlbG8Na"
      },
      "execution_count": null,
      "outputs": []
    },
    {
      "cell_type": "markdown",
      "source": [
        "> **Error to Expect: AttributeError**\n",
        "\n",
        "\n",
        "The error occurs because the code does not correctly handle the assignment of a new score to a student who is not already in the records. Specifically, the code assigns the score directly to records[name] when the student is not found, but this should be a list containing the score."
      ],
      "metadata": {
        "id": "SXB-90wOI6p4"
      }
    },
    {
      "cell_type": "markdown",
      "source": [
        ">**Corrected Code**\n",
        "\n",
        "To fix this, we need to ensure that when a new student is added to the dictionary, their score is stored as a list containing that score."
      ],
      "metadata": {
        "id": "VSVWrZ_zI9so"
      }
    },
    {
      "cell_type": "code",
      "source": [
        "def update_record(records, name, score):\n",
        "    if name in records:\n",
        "        records[name].append(score)\n",
        "    else:\n",
        "        records[name] = [score]  # Initialize with a list containing the score\n",
        "\n",
        "student_records = {\"Alice\": [88, 92], \"Bob\": [70, 85]}\n",
        "update_record(student_records, \"Charlie\", 91)\n",
        "update_record(student_records, \"Alice\", 95)\n",
        "\n",
        "print(student_records)\n"
      ],
      "metadata": {
        "colab": {
          "base_uri": "https://localhost:8080/"
        },
        "id": "WPNYgrzIJOZt",
        "outputId": "2472e9e2-0b01-4841-a030-dbd8633739ac"
      },
      "execution_count": null,
      "outputs": [
        {
          "output_type": "stream",
          "name": "stdout",
          "text": [
            "{'Alice': [88, 92, 95], 'Bob': [70, 85], 'Charlie': [91]}\n"
          ]
        }
      ]
    },
    {
      "cell_type": "markdown",
      "source": [
        ">**Explanation**\n",
        "\n",
        "*   When a student's name is not already in the records dictionary, the else clause is executed.\n",
        "\n",
        "*   In the else clause, records[name] is correctly initialized with a list containing the score ([score]).\n",
        "*   This ensures that the value associated with each key in the dictionary is always a list.\n",
        "\n",
        "\n",
        "\n"
      ],
      "metadata": {
        "id": "ulWVrdszJJeI"
      }
    },
    {
      "cell_type": "markdown",
      "source": [
        "**Output of the Corrected Code**\n",
        "\n",
        "\n",
        "\n",
        "```\n",
        "{'Alice': [88, 92, 95], 'Bob': [70, 85], 'Charlie': [91]}\n",
        "\n",
        "```\n",
        "\n",
        "\n",
        "By initializing the value as a list when a new student is added, we avoid the AttributeError and ensure that all scores are stored as lists in the dictionary.\n",
        "\n"
      ],
      "metadata": {
        "id": "y8ELgdE_JfY1"
      }
    },
    {
      "cell_type": "code",
      "source": [
        "import numpy as np\n",
        "array=np.array([[1,5,7],[8,9,7]])\n",
        "print(array)"
      ],
      "metadata": {
        "colab": {
          "base_uri": "https://localhost:8080/"
        },
        "id": "Wmu48ZplSUMa",
        "outputId": "6d73fa08-c9f5-404b-e374-f0e372b9fd5b"
      },
      "execution_count": null,
      "outputs": [
        {
          "output_type": "stream",
          "name": "stdout",
          "text": [
            "[[1 5 7]\n",
            " [8 9 7]]\n"
          ]
        }
      ]
    }
  ]
}